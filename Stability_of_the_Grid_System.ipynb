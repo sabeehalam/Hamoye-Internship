{
  "nbformat": 4,
  "nbformat_minor": 0,
  "metadata": {
    "colab": {
      "name": "Stability of the Grid System.ipynb",
      "provenance": [],
      "collapsed_sections": [],
      "authorship_tag": "ABX9TyNSyIp9RwVcAexPFOegCY9A",
      "include_colab_link": true
    },
    "kernelspec": {
      "name": "python3",
      "display_name": "Python 3"
    },
    "language_info": {
      "name": "python"
    }
  },
  "cells": [
    {
      "cell_type": "markdown",
      "metadata": {
        "id": "view-in-github",
        "colab_type": "text"
      },
      "source": [
        "<a href=\"https://colab.research.google.com/github/sabeehalam/Hamoye-Internship/blob/main/Stability_of_the_Grid_System.ipynb\" target=\"_parent\"><img src=\"https://colab.research.google.com/assets/colab-badge.svg\" alt=\"Open In Colab\"/></a>"
      ]
    },
    {
      "cell_type": "code",
      "metadata": {
        "colab": {
          "base_uri": "https://localhost:8080/"
        },
        "id": "0vJ6HRhWxWVM",
        "outputId": "fbeb67bd-a0ab-4df1-b7b8-ab237e8c4c1a"
      },
      "source": [
        "#Mount the drive\n",
        "from google.colab import drive\n",
        "drive.mount(\"/content/gdrive\")"
      ],
      "execution_count": 1,
      "outputs": [
        {
          "output_type": "stream",
          "text": [
            "Mounted at /content/gdrive\n"
          ],
          "name": "stdout"
        }
      ]
    },
    {
      "cell_type": "code",
      "metadata": {
        "id": "bVqaqGQSyVzp"
      },
      "source": [
        "import numpy as np\n",
        "import pandas as pd\n",
        "import matplotlib.pyplot as plt\n",
        "from sklearn.model_selection import train_test_split\n",
        "from sklearn.preprocessing import StandardScaler\n",
        "from sklearn.ensemble import RandomForestRegressor\n",
        "from sklearn.ensemble import ExtraTreesRegressor\n",
        "from lightgbm import LGBMRegressor\n",
        "from xgboost import XGBRegressor\n",
        "from sklearn.ensemble import RandomForestClassifier\n",
        "from sklearn.ensemble import ExtraTreesClassifier\n",
        "from lightgbm import LGBMClassifier\n",
        "from xgboost import XGBClassifier\n",
        "from sklearn.metrics import mean_squared_error\n",
        "from sklearn.metrics import accuracy_score\n",
        "from sklearn.model_selection import RandomizedSearchCV \n",
        "from os import listdir"
      ],
      "execution_count": 56,
      "outputs": []
    },
    {
      "cell_type": "code",
      "metadata": {
        "colab": {
          "base_uri": "https://localhost:8080/",
          "height": 128
        },
        "id": "KFmU5W4GyvSb",
        "outputId": "9f3dc0c9-636b-4978-df46-3ef969bc0f40"
      },
      "source": [
        "#reach the relevant\n",
        "cd content/gdrive/MyDrive"
      ],
      "execution_count": 26,
      "outputs": [
        {
          "output_type": "error",
          "ename": "SyntaxError",
          "evalue": "ignored",
          "traceback": [
            "\u001b[0;36m  File \u001b[0;32m\"<ipython-input-26-a00b80699049>\"\u001b[0;36m, line \u001b[0;32m2\u001b[0m\n\u001b[0;31m    cd content/gdrive/MyDrive\u001b[0m\n\u001b[0m             ^\u001b[0m\n\u001b[0;31mSyntaxError\u001b[0m\u001b[0;31m:\u001b[0m invalid syntax\n"
          ]
        }
      ]
    },
    {
      "cell_type": "code",
      "metadata": {
        "id": "51IMcANOxug7"
      },
      "source": [
        "#Read the excel file to a pandas dataframe\n",
        "df=pd.read_csv('Data_for_UCI_named.csv')"
      ],
      "execution_count": 32,
      "outputs": []
    },
    {
      "cell_type": "code",
      "metadata": {
        "colab": {
          "base_uri": "https://localhost:8080/",
          "height": 195
        },
        "id": "sz226ubHyXrU",
        "outputId": "7a36fd22-6202-4a11-afc0-6cc15ed142be"
      },
      "source": [
        "#output first five columns\n",
        "df.head()"
      ],
      "execution_count": 33,
      "outputs": [
        {
          "output_type": "execute_result",
          "data": {
            "text/html": [
              "<div>\n",
              "<style scoped>\n",
              "    .dataframe tbody tr th:only-of-type {\n",
              "        vertical-align: middle;\n",
              "    }\n",
              "\n",
              "    .dataframe tbody tr th {\n",
              "        vertical-align: top;\n",
              "    }\n",
              "\n",
              "    .dataframe thead th {\n",
              "        text-align: right;\n",
              "    }\n",
              "</style>\n",
              "<table border=\"1\" class=\"dataframe\">\n",
              "  <thead>\n",
              "    <tr style=\"text-align: right;\">\n",
              "      <th></th>\n",
              "      <th>tau1</th>\n",
              "      <th>tau2</th>\n",
              "      <th>tau3</th>\n",
              "      <th>tau4</th>\n",
              "      <th>p1</th>\n",
              "      <th>p2</th>\n",
              "      <th>p3</th>\n",
              "      <th>p4</th>\n",
              "      <th>g1</th>\n",
              "      <th>g2</th>\n",
              "      <th>g3</th>\n",
              "      <th>g4</th>\n",
              "      <th>stab</th>\n",
              "      <th>stabf</th>\n",
              "    </tr>\n",
              "  </thead>\n",
              "  <tbody>\n",
              "    <tr>\n",
              "      <th>0</th>\n",
              "      <td>2.959060</td>\n",
              "      <td>3.079885</td>\n",
              "      <td>8.381025</td>\n",
              "      <td>9.780754</td>\n",
              "      <td>3.763085</td>\n",
              "      <td>-0.782604</td>\n",
              "      <td>-1.257395</td>\n",
              "      <td>-1.723086</td>\n",
              "      <td>0.650456</td>\n",
              "      <td>0.859578</td>\n",
              "      <td>0.887445</td>\n",
              "      <td>0.958034</td>\n",
              "      <td>0.055347</td>\n",
              "      <td>unstable</td>\n",
              "    </tr>\n",
              "    <tr>\n",
              "      <th>1</th>\n",
              "      <td>9.304097</td>\n",
              "      <td>4.902524</td>\n",
              "      <td>3.047541</td>\n",
              "      <td>1.369357</td>\n",
              "      <td>5.067812</td>\n",
              "      <td>-1.940058</td>\n",
              "      <td>-1.872742</td>\n",
              "      <td>-1.255012</td>\n",
              "      <td>0.413441</td>\n",
              "      <td>0.862414</td>\n",
              "      <td>0.562139</td>\n",
              "      <td>0.781760</td>\n",
              "      <td>-0.005957</td>\n",
              "      <td>stable</td>\n",
              "    </tr>\n",
              "    <tr>\n",
              "      <th>2</th>\n",
              "      <td>8.971707</td>\n",
              "      <td>8.848428</td>\n",
              "      <td>3.046479</td>\n",
              "      <td>1.214518</td>\n",
              "      <td>3.405158</td>\n",
              "      <td>-1.207456</td>\n",
              "      <td>-1.277210</td>\n",
              "      <td>-0.920492</td>\n",
              "      <td>0.163041</td>\n",
              "      <td>0.766689</td>\n",
              "      <td>0.839444</td>\n",
              "      <td>0.109853</td>\n",
              "      <td>0.003471</td>\n",
              "      <td>unstable</td>\n",
              "    </tr>\n",
              "    <tr>\n",
              "      <th>3</th>\n",
              "      <td>0.716415</td>\n",
              "      <td>7.669600</td>\n",
              "      <td>4.486641</td>\n",
              "      <td>2.340563</td>\n",
              "      <td>3.963791</td>\n",
              "      <td>-1.027473</td>\n",
              "      <td>-1.938944</td>\n",
              "      <td>-0.997374</td>\n",
              "      <td>0.446209</td>\n",
              "      <td>0.976744</td>\n",
              "      <td>0.929381</td>\n",
              "      <td>0.362718</td>\n",
              "      <td>0.028871</td>\n",
              "      <td>unstable</td>\n",
              "    </tr>\n",
              "    <tr>\n",
              "      <th>4</th>\n",
              "      <td>3.134112</td>\n",
              "      <td>7.608772</td>\n",
              "      <td>4.943759</td>\n",
              "      <td>9.857573</td>\n",
              "      <td>3.525811</td>\n",
              "      <td>-1.125531</td>\n",
              "      <td>-1.845975</td>\n",
              "      <td>-0.554305</td>\n",
              "      <td>0.797110</td>\n",
              "      <td>0.455450</td>\n",
              "      <td>0.656947</td>\n",
              "      <td>0.820923</td>\n",
              "      <td>0.049860</td>\n",
              "      <td>unstable</td>\n",
              "    </tr>\n",
              "  </tbody>\n",
              "</table>\n",
              "</div>"
            ],
            "text/plain": [
              "       tau1      tau2      tau3  ...        g4      stab     stabf\n",
              "0  2.959060  3.079885  8.381025  ...  0.958034  0.055347  unstable\n",
              "1  9.304097  4.902524  3.047541  ...  0.781760 -0.005957    stable\n",
              "2  8.971707  8.848428  3.046479  ...  0.109853  0.003471  unstable\n",
              "3  0.716415  7.669600  4.486641  ...  0.362718  0.028871  unstable\n",
              "4  3.134112  7.608772  4.943759  ...  0.820923  0.049860  unstable\n",
              "\n",
              "[5 rows x 14 columns]"
            ]
          },
          "metadata": {
            "tags": []
          },
          "execution_count": 33
        }
      ]
    },
    {
      "cell_type": "code",
      "metadata": {
        "id": "D87weDIuzCjv"
      },
      "source": [
        "#Drop stabf variable\n",
        "df1=df.drop('stabf',axis=1)"
      ],
      "execution_count": 34,
      "outputs": []
    },
    {
      "cell_type": "code",
      "metadata": {
        "id": "5_dpUHuS4kWG"
      },
      "source": [
        "#separate columns toindependent and dependent variables\n",
        "X=df1.drop('stab',axis=1)\n",
        "y=df1['stab']"
      ],
      "execution_count": 35,
      "outputs": []
    },
    {
      "cell_type": "code",
      "metadata": {
        "id": "weLwC88Yze33"
      },
      "source": [
        "#Split data into train and test sets\n",
        "X_train, X_test, y_train, y_test=train_test_split( X, y, test_size=0.3, random_state=1)"
      ],
      "execution_count": 36,
      "outputs": []
    },
    {
      "cell_type": "code",
      "metadata": {
        "colab": {
          "base_uri": "https://localhost:8080/"
        },
        "id": "hly1uU5b47B7",
        "outputId": "3e09b963-0b3f-4cc7-8b05-c2f7dd945a35"
      },
      "source": [
        "#Scale the data\n",
        "ss=StandardScaler()\n",
        "ss.fit_transform(X_train,y_train)\n",
        "ss.transform(X_test)"
      ],
      "execution_count": 37,
      "outputs": [
        {
          "output_type": "execute_result",
          "data": {
            "text/plain": [
              "array([[ 0.59859735, -0.40851436,  1.50275117, ...,  1.16594247,\n",
              "        -1.51947298,  1.08635556],\n",
              "       [ 0.20783601,  0.37783975, -0.19031054, ..., -0.3974546 ,\n",
              "         1.4084647 ,  1.22749488],\n",
              "       [-1.07012833, -0.30962641, -0.88628304, ..., -1.44064567,\n",
              "         0.64407968, -1.67768219],\n",
              "       ...,\n",
              "       [-1.57567885,  0.80027296,  0.42855906, ..., -0.92023029,\n",
              "         1.69439709, -1.37250983],\n",
              "       [-1.51643545, -0.2417414 , -0.67518489, ...,  0.22089891,\n",
              "        -0.23411872,  0.78859853],\n",
              "       [-0.87985064,  1.16260567, -0.56140345, ..., -1.24632636,\n",
              "         1.5362551 , -1.48970973]])"
            ]
          },
          "metadata": {
            "tags": []
          },
          "execution_count": 37
        }
      ]
    },
    {
      "cell_type": "code",
      "metadata": {
        "colab": {
          "base_uri": "https://localhost:8080/"
        },
        "id": "JlPF6rui8sRJ",
        "outputId": "9ba2277d-e37d-4fde-85a8-43239e38a4d2"
      },
      "source": [
        "#random forest implementation\n",
        "rfr=RandomForestRegressor(random_state=1)\n",
        "rfr.fit(X_train, y_train)\n",
        "y_pred=rfr.predict(X_test)\n",
        "mean_squared_error(y_test,y_pred)"
      ],
      "execution_count": 44,
      "outputs": [
        {
          "output_type": "execute_result",
          "data": {
            "text/plain": [
              "0.00014509795143425504"
            ]
          },
          "metadata": {
            "tags": []
          },
          "execution_count": 44
        }
      ]
    },
    {
      "cell_type": "code",
      "metadata": {
        "colab": {
          "base_uri": "https://localhost:8080/"
        },
        "id": "Uyq22wy5CnZ9",
        "outputId": "df12445d-35f1-4d9a-e082-09224397ab36"
      },
      "source": [
        "#extra trees implementation\n",
        "exr=ExtraTreesRegressor(random_state=1)\n",
        "exr.fit(X_train, y_train)\n",
        "y_pred=exr.predict(X_test)\n",
        "mean_squared_error(y_test, y_pred)"
      ],
      "execution_count": 45,
      "outputs": [
        {
          "output_type": "execute_result",
          "data": {
            "text/plain": [
              "0.000118892662181966"
            ]
          },
          "metadata": {
            "tags": []
          },
          "execution_count": 45
        }
      ]
    },
    {
      "cell_type": "code",
      "metadata": {
        "colab": {
          "base_uri": "https://localhost:8080/"
        },
        "id": "wro6K9I7DWLS",
        "outputId": "4045dee9-f670-4ec3-fd76-9a39a6b71b18"
      },
      "source": [
        "#XGB boosting implementation\n",
        "xgbr=XGBRegressor(random_state=1)\n",
        "xgbr.fit(X_train,y_train)\n",
        "y_pred=xgbr.predict(X_test)\n",
        "mean_squared_error(y_test, y_pred)"
      ],
      "execution_count": 49,
      "outputs": [
        {
          "output_type": "stream",
          "text": [
            "[06:23:31] WARNING: /workspace/src/objective/regression_obj.cu:152: reg:linear is now deprecated in favor of reg:squarederror.\n"
          ],
          "name": "stdout"
        },
        {
          "output_type": "execute_result",
          "data": {
            "text/plain": [
              "0.00012639692106180823"
            ]
          },
          "metadata": {
            "tags": []
          },
          "execution_count": 49
        }
      ]
    },
    {
      "cell_type": "code",
      "metadata": {
        "colab": {
          "base_uri": "https://localhost:8080/"
        },
        "id": "FN4SYiHcE4DN",
        "outputId": "d90b96b6-912b-4e5e-8feb-cb0e2cbd088f"
      },
      "source": [
        "#Lightgbm boosting implementation\n",
        "lgbm=LGBMRegressor(random_state=1)\n",
        "lgbm.fit(X_train,y_train)\n",
        "y_pred=lgbm.predict(X_test)\n",
        "mean_squared_error(y_test, y_pred)"
      ],
      "execution_count": 50,
      "outputs": [
        {
          "output_type": "execute_result",
          "data": {
            "text/plain": [
              "7.398891688185189e-05"
            ]
          },
          "metadata": {
            "tags": []
          },
          "execution_count": 50
        }
      ]
    },
    {
      "cell_type": "code",
      "metadata": {
        "colab": {
          "base_uri": "https://localhost:8080/"
        },
        "id": "UEyqHfv-F0iK",
        "outputId": "35d2f799-7d7e-4f68-e80c-bffe904a457b"
      },
      "source": [
        "#extra trees improved by randomized search implementation\n",
        "n_estimators = [50, 100, 300, 500, 1000]\n",
        "min_samples_split = [2, 3, 5, 7, 9]\n",
        "min_samples_leaf = [1, 2, 4, 6, 8]\n",
        "max_features = ['auto', 'sqrt', 'log2', None]\n",
        "hyperparameter_grid = {'n_estimators': n_estimators,\n",
        "'min_samples_leaf': min_samples_leaf,\n",
        "'min_samples_split': min_samples_split,\n",
        "'max_features': max_features}\n",
        "\n",
        "exr_imp=ExtraTreesRegressor(random_state=1)\n",
        "rcv=RandomizedSearchCV(exr_imp, param_distributions=hyperparameter_grid)\n",
        "hist=rcv.fit(X_train, y_train)\n",
        "y_pred=rcv.predict(X_test)\n",
        "mean_squared_error(y_test,y_pred)\n"
      ],
      "execution_count": 52,
      "outputs": [
        {
          "output_type": "execute_result",
          "data": {
            "text/plain": [
              "0.00011682230074268336"
            ]
          },
          "metadata": {
            "tags": []
          },
          "execution_count": 52
        }
      ]
    },
    {
      "cell_type": "code",
      "metadata": {
        "colab": {
          "base_uri": "https://localhost:8080/"
        },
        "id": "Ohn2MykJH8B1",
        "outputId": "eefe6864-2667-40ea-88f7-767f2f594c34"
      },
      "source": [
        "#best parameters in the improved Extra Classifier\n",
        "hist.best_params_"
      ],
      "execution_count": 53,
      "outputs": [
        {
          "output_type": "execute_result",
          "data": {
            "text/plain": [
              "{'max_features': None,\n",
              " 'min_samples_leaf': 1,\n",
              " 'min_samples_split': 5,\n",
              " 'n_estimators': 1000}"
            ]
          },
          "metadata": {
            "tags": []
          },
          "execution_count": 53
        }
      ]
    },
    {
      "cell_type": "markdown",
      "metadata": {
        "id": "1PYk7xarVrl-"
      },
      "source": [
        "Classifier models\n"
      ]
    },
    {
      "cell_type": "code",
      "metadata": {
        "id": "bYSDtU_iIswb"
      },
      "source": [
        "y=df['stabf']"
      ],
      "execution_count": 64,
      "outputs": []
    },
    {
      "cell_type": "code",
      "metadata": {
        "id": "XtN4O30fV6eC"
      },
      "source": [
        "#Split data into train and test sets\n",
        "X_train, X_test, y_train, y_test=train_test_split( X, y, test_size=0.3, random_state=1)"
      ],
      "execution_count": 65,
      "outputs": []
    },
    {
      "cell_type": "code",
      "metadata": {
        "colab": {
          "base_uri": "https://localhost:8080/",
          "height": 402
        },
        "id": "PHD-OQ9PWoHo",
        "outputId": "b5b44a59-fd5d-4767-96d3-027f81a78547"
      },
      "source": [
        "dumm=pd.get_dummies(df['stabf'])\n",
        "pd.concatdumm"
      ],
      "execution_count": 67,
      "outputs": [
        {
          "output_type": "execute_result",
          "data": {
            "text/html": [
              "<div>\n",
              "<style scoped>\n",
              "    .dataframe tbody tr th:only-of-type {\n",
              "        vertical-align: middle;\n",
              "    }\n",
              "\n",
              "    .dataframe tbody tr th {\n",
              "        vertical-align: top;\n",
              "    }\n",
              "\n",
              "    .dataframe thead th {\n",
              "        text-align: right;\n",
              "    }\n",
              "</style>\n",
              "<table border=\"1\" class=\"dataframe\">\n",
              "  <thead>\n",
              "    <tr style=\"text-align: right;\">\n",
              "      <th></th>\n",
              "      <th>stable</th>\n",
              "      <th>unstable</th>\n",
              "    </tr>\n",
              "  </thead>\n",
              "  <tbody>\n",
              "    <tr>\n",
              "      <th>0</th>\n",
              "      <td>0</td>\n",
              "      <td>1</td>\n",
              "    </tr>\n",
              "    <tr>\n",
              "      <th>1</th>\n",
              "      <td>1</td>\n",
              "      <td>0</td>\n",
              "    </tr>\n",
              "    <tr>\n",
              "      <th>2</th>\n",
              "      <td>0</td>\n",
              "      <td>1</td>\n",
              "    </tr>\n",
              "    <tr>\n",
              "      <th>3</th>\n",
              "      <td>0</td>\n",
              "      <td>1</td>\n",
              "    </tr>\n",
              "    <tr>\n",
              "      <th>4</th>\n",
              "      <td>0</td>\n",
              "      <td>1</td>\n",
              "    </tr>\n",
              "    <tr>\n",
              "      <th>...</th>\n",
              "      <td>...</td>\n",
              "      <td>...</td>\n",
              "    </tr>\n",
              "    <tr>\n",
              "      <th>9995</th>\n",
              "      <td>0</td>\n",
              "      <td>1</td>\n",
              "    </tr>\n",
              "    <tr>\n",
              "      <th>9996</th>\n",
              "      <td>1</td>\n",
              "      <td>0</td>\n",
              "    </tr>\n",
              "    <tr>\n",
              "      <th>9997</th>\n",
              "      <td>1</td>\n",
              "      <td>0</td>\n",
              "    </tr>\n",
              "    <tr>\n",
              "      <th>9998</th>\n",
              "      <td>0</td>\n",
              "      <td>1</td>\n",
              "    </tr>\n",
              "    <tr>\n",
              "      <th>9999</th>\n",
              "      <td>0</td>\n",
              "      <td>1</td>\n",
              "    </tr>\n",
              "  </tbody>\n",
              "</table>\n",
              "<p>10000 rows × 2 columns</p>\n",
              "</div>"
            ],
            "text/plain": [
              "      stable  unstable\n",
              "0          0         1\n",
              "1          1         0\n",
              "2          0         1\n",
              "3          0         1\n",
              "4          0         1\n",
              "...      ...       ...\n",
              "9995       0         1\n",
              "9996       1         0\n",
              "9997       1         0\n",
              "9998       0         1\n",
              "9999       0         1\n",
              "\n",
              "[10000 rows x 2 columns]"
            ]
          },
          "metadata": {
            "tags": []
          },
          "execution_count": 67
        }
      ]
    },
    {
      "cell_type": "code",
      "metadata": {
        "id": "88Fa9eyXWoF3"
      },
      "source": [
        ""
      ],
      "execution_count": 67,
      "outputs": []
    },
    {
      "cell_type": "code",
      "metadata": {
        "colab": {
          "base_uri": "https://localhost:8080/"
        },
        "id": "KC4rv-zGV6cd",
        "outputId": "5805b81b-d835-44bc-a8ad-edcb56bb4723"
      },
      "source": [
        "#Scale the data\n",
        "ss=StandardScaler()\n",
        "ss.fit_transform(X_train)\n",
        "ss.transform(X_test)"
      ],
      "execution_count": 68,
      "outputs": [
        {
          "output_type": "execute_result",
          "data": {
            "text/plain": [
              "array([[ 0.59859735, -0.40851436,  1.50275117, ...,  1.16594247,\n",
              "        -1.51947298,  1.08635556],\n",
              "       [ 0.20783601,  0.37783975, -0.19031054, ..., -0.3974546 ,\n",
              "         1.4084647 ,  1.22749488],\n",
              "       [-1.07012833, -0.30962641, -0.88628304, ..., -1.44064567,\n",
              "         0.64407968, -1.67768219],\n",
              "       ...,\n",
              "       [-1.57567885,  0.80027296,  0.42855906, ..., -0.92023029,\n",
              "         1.69439709, -1.37250983],\n",
              "       [-1.51643545, -0.2417414 , -0.67518489, ...,  0.22089891,\n",
              "        -0.23411872,  0.78859853],\n",
              "       [-0.87985064,  1.16260567, -0.56140345, ..., -1.24632636,\n",
              "         1.5362551 , -1.48970973]])"
            ]
          },
          "metadata": {
            "tags": []
          },
          "execution_count": 68
        }
      ]
    },
    {
      "cell_type": "code",
      "metadata": {
        "colab": {
          "base_uri": "https://localhost:8080/"
        },
        "id": "NXyqVj_JVqW-",
        "outputId": "3d9c80fd-a4c9-4d59-958c-e5f0fc91f796"
      },
      "source": [
        "#random forest implementation\n",
        "rfr=RandomForestClassifier(random_state=1)\n",
        "rfr.fit(X_train, y_train)\n",
        "y_pred=rfr.predict(X_test)\n",
        "accuracy_score(y_test,y_pred)"
      ],
      "execution_count": 69,
      "outputs": [
        {
          "output_type": "execute_result",
          "data": {
            "text/plain": [
              "0.9173333333333333"
            ]
          },
          "metadata": {
            "tags": []
          },
          "execution_count": 69
        }
      ]
    },
    {
      "cell_type": "code",
      "metadata": {
        "colab": {
          "base_uri": "https://localhost:8080/"
        },
        "id": "GhJgjmfJWJM9",
        "outputId": "eab1e878-0de2-4b43-afe4-30e7b96e7da7"
      },
      "source": [
        "#extra trees implementation\n",
        "exr=ExtraTreesClassifier(random_state=1)\n",
        "his=exr.fit(X_train, y_train)\n",
        "y_pred=exr.predict(X_test)\n",
        "accuracy_score(y_test, y_pred)"
      ],
      "execution_count": 89,
      "outputs": [
        {
          "output_type": "execute_result",
          "data": {
            "text/plain": [
              "0.9206666666666666"
            ]
          },
          "metadata": {
            "tags": []
          },
          "execution_count": 89
        }
      ]
    },
    {
      "cell_type": "code",
      "metadata": {
        "colab": {
          "base_uri": "https://localhost:8080/"
        },
        "id": "6My-9dI5dHHQ",
        "outputId": "98c0e21a-cb1b-46d4-e465-555d40794185"
      },
      "source": [
        "his.feature_importances_"
      ],
      "execution_count": 90,
      "outputs": [
        {
          "output_type": "execute_result",
          "data": {
            "text/plain": [
              "array([0.12056057, 0.11719745, 0.11066518, 0.11571542, 0.03959881,\n",
              "       0.04085213, 0.04128182, 0.0408076 , 0.08871655, 0.0947766 ,\n",
              "       0.09647193, 0.09335592])"
            ]
          },
          "metadata": {
            "tags": []
          },
          "execution_count": 90
        }
      ]
    },
    {
      "cell_type": "code",
      "metadata": {
        "colab": {
          "base_uri": "https://localhost:8080/"
        },
        "id": "adXfrQIJXAXX",
        "outputId": "ff251602-cd2e-44fe-89d4-85d410b4a5b8"
      },
      "source": [
        "#XGB boosting implementation\n",
        "xgbr=XGBClassifier(random_state=1)\n",
        "xgbr.fit(X_train,y_train)\n",
        "y_pred=xgbr.predict(X_test)\n",
        "accuracy_score(y_test, y_pred)"
      ],
      "execution_count": 71,
      "outputs": [
        {
          "output_type": "execute_result",
          "data": {
            "text/plain": [
              "0.911"
            ]
          },
          "metadata": {
            "tags": []
          },
          "execution_count": 71
        }
      ]
    },
    {
      "cell_type": "code",
      "metadata": {
        "colab": {
          "base_uri": "https://localhost:8080/"
        },
        "id": "E8bDrgiMXGs2",
        "outputId": "4ab7e06e-521c-44b3-abcc-2ec366ac274e"
      },
      "source": [
        "#Lightgbm boosting implementation\n",
        "lgbm=LGBMClassifier(random_state=1)\n",
        "lgbm.fit(X_train,y_train)\n",
        "y_pred=lgbm.predict(X_test)\n",
        "accuracy_score(y_test, y_pred)"
      ],
      "execution_count": 72,
      "outputs": [
        {
          "output_type": "execute_result",
          "data": {
            "text/plain": [
              "0.935"
            ]
          },
          "metadata": {
            "tags": []
          },
          "execution_count": 72
        }
      ]
    },
    {
      "cell_type": "code",
      "metadata": {
        "colab": {
          "base_uri": "https://localhost:8080/"
        },
        "id": "_9ikGbOPXM7N",
        "outputId": "f66963b6-7f9d-4014-90b1-1e48413035a9"
      },
      "source": [
        "#extra trees improved by randomized search implementation\n",
        "n_estimators = [50, 100, 300, 500, 1000]\n",
        "min_samples_split = [2, 3, 5, 7, 9]\n",
        "min_samples_leaf = [1, 2, 4, 6, 8]\n",
        "max_features = ['auto', 'sqrt', 'log2', None]\n",
        "hyperparameter_grid = {'n_estimators': n_estimators,\n",
        "'min_samples_leaf': min_samples_leaf,\n",
        "'min_samples_split': min_samples_split,\n",
        "'max_features': max_features}\n",
        "\n",
        "exr_imp=ExtraTreesClassifier()\n",
        "rcv=RandomizedSearchCV(exr_imp, param_distributions=hyperparameter_grid)\n",
        "hist=rcv.fit(X_train, y_train)\n",
        "y_pred=rcv.predict(X_test)\n",
        "accuracy_score(y_test,y_pred)\n"
      ],
      "execution_count": 73,
      "outputs": [
        {
          "output_type": "execute_result",
          "data": {
            "text/plain": [
              "0.9313333333333333"
            ]
          },
          "metadata": {
            "tags": []
          },
          "execution_count": 73
        }
      ]
    },
    {
      "cell_type": "code",
      "metadata": {
        "colab": {
          "base_uri": "https://localhost:8080/"
        },
        "id": "rDn_yRIvfFQb",
        "outputId": "2fd8ae50-9d48-4109-9276-fce70a33364c"
      },
      "source": [
        "hist.best_estimator_.feature_importances_"
      ],
      "execution_count": 92,
      "outputs": [
        {
          "output_type": "execute_result",
          "data": {
            "text/plain": [
              "array([0.141614  , 0.14056604, 0.13213324, 0.13445685, 0.00379731,\n",
              "       0.00559665, 0.00550299, 0.00511901, 0.10145173, 0.10808637,\n",
              "       0.11373768, 0.10793813])"
            ]
          },
          "metadata": {
            "tags": []
          },
          "execution_count": 92
        }
      ]
    },
    {
      "cell_type": "code",
      "metadata": {
        "colab": {
          "base_uri": "https://localhost:8080/"
        },
        "id": "U33qDzBFXaOm",
        "outputId": "de46038d-52bb-4e30-f4e3-df0215847809"
      },
      "source": [
        "#best parameters in the improved Extra Classifier\n",
        "hist.best_params_"
      ],
      "execution_count": 74,
      "outputs": [
        {
          "output_type": "execute_result",
          "data": {
            "text/plain": [
              "{'max_features': None,\n",
              " 'min_samples_leaf': 1,\n",
              " 'min_samples_split': 5,\n",
              " 'n_estimators': 500}"
            ]
          },
          "metadata": {
            "tags": []
          },
          "execution_count": 74
        }
      ]
    },
    {
      "cell_type": "code",
      "metadata": {
        "colab": {
          "base_uri": "https://localhost:8080/"
        },
        "id": "Xg3pZnFgYO4A",
        "outputId": "3b0c1212-0ff2-4d82-9790-7527fe2fbcfd"
      },
      "source": [
        "#extra trees improved by randomized search implementation\n",
        "n_estimators = [50, 100, 300, 500, 1000]\n",
        "min_samples_split = [2, 3, 5, 7, 9]\n",
        "min_samples_leaf = [1, 2, 4, 6, 8]\n",
        "max_features = ['auto', 'sqrt', 'log2', None]\n",
        "hyperparameter_grid = {'n_estimators': n_estimators,\n",
        "'min_samples_leaf': min_samples_leaf,\n",
        "'min_samples_split': min_samples_split,\n",
        "'max_features': max_features}\n",
        "\n",
        "exr_imp=ExtraTreesClassifier()\n",
        "rcv=RandomizedSearchCV(exr_imp, param_distributions=hyperparameter_grid, cv=5, n_iter=10, scoring = 'accuracy', n_jobs = -1, verbose = 1, random_state = 1)\n",
        "hist=rcv.fit(X_train, y_train)\n",
        "y_pred=rcv.predict(X_test)\n",
        "accuracy_score(y_test,y_pred)\n"
      ],
      "execution_count": 83,
      "outputs": [
        {
          "output_type": "stream",
          "text": [
            "Fitting 5 folds for each of 10 candidates, totalling 50 fits\n"
          ],
          "name": "stdout"
        },
        {
          "output_type": "stream",
          "text": [
            "[Parallel(n_jobs=-1)]: Using backend LokyBackend with 2 concurrent workers.\n",
            "[Parallel(n_jobs=-1)]: Done  46 tasks      | elapsed:  1.3min\n",
            "[Parallel(n_jobs=-1)]: Done  50 out of  50 | elapsed:  1.3min finished\n"
          ],
          "name": "stderr"
        },
        {
          "output_type": "execute_result",
          "data": {
            "text/plain": [
              "0.9216666666666666"
            ]
          },
          "metadata": {
            "tags": []
          },
          "execution_count": 83
        }
      ]
    },
    {
      "cell_type": "code",
      "metadata": {
        "colab": {
          "base_uri": "https://localhost:8080/"
        },
        "id": "sjirjgVWbiaD",
        "outputId": "a8937cd5-c62a-437d-f209-ed41b3683046"
      },
      "source": [
        "#best parameters in the improved Extra Classifier\n",
        "hist.best_params_"
      ],
      "execution_count": 87,
      "outputs": [
        {
          "output_type": "execute_result",
          "data": {
            "text/plain": [
              "{'max_features': None,\n",
              " 'min_samples_leaf': 8,\n",
              " 'min_samples_split': 2,\n",
              " 'n_estimators': 1000}"
            ]
          },
          "metadata": {
            "tags": []
          },
          "execution_count": 87
        }
      ]
    },
    {
      "cell_type": "code",
      "metadata": {
        "colab": {
          "base_uri": "https://localhost:8080/"
        },
        "id": "0JJKaImCY1du",
        "outputId": "bd040a74-25d9-4ef4-d1c4-abd443482ae5"
      },
      "source": [
        "#extra trees improved by randomized search implementation\n",
        "n_estimators = [50, 100, 300, 500, 1000]\n",
        "min_samples_split = [2, 3, 5, 7, 9]\n",
        "min_samples_leaf = [1, 2, 4, 6, 8]\n",
        "max_features = ['auto', 'sqrt', 'log2', None]\n",
        "hyperparameter_grid = {'n_estimators': n_estimators,\n",
        "'min_samples_leaf': min_samples_leaf,\n",
        "'min_samples_split': min_samples_split,\n",
        "'max_features': max_features}\n",
        "\n",
        "exr_imp=ExtraTreesClassifier(random_state=1)\n",
        "rcv=RandomizedSearchCV(exr_imp, param_distributions=hyperparameter_grid, cv=5, n_iter=10, scoring = 'accuracy', n_jobs = -1, verbose = 1, random_state = 1)\n",
        "hist=rcv.fit(X_train, y_train)\n",
        "y_pred=rcv.predict(X_test)\n",
        "accuracy_score(y_test,y_pred)\n"
      ],
      "execution_count": 88,
      "outputs": [
        {
          "output_type": "stream",
          "text": [
            "Fitting 5 folds for each of 10 candidates, totalling 50 fits\n"
          ],
          "name": "stdout"
        },
        {
          "output_type": "stream",
          "text": [
            "[Parallel(n_jobs=-1)]: Using backend LokyBackend with 2 concurrent workers.\n",
            "[Parallel(n_jobs=-1)]: Done  46 tasks      | elapsed:  1.3min\n",
            "[Parallel(n_jobs=-1)]: Done  50 out of  50 | elapsed:  1.3min finished\n"
          ],
          "name": "stderr"
        },
        {
          "output_type": "execute_result",
          "data": {
            "text/plain": [
              "0.926"
            ]
          },
          "metadata": {
            "tags": []
          },
          "execution_count": 88
        }
      ]
    },
    {
      "cell_type": "code",
      "metadata": {
        "id": "XSim6mOicCN2"
      },
      "source": [
        ""
      ],
      "execution_count": null,
      "outputs": []
    }
  ]
}