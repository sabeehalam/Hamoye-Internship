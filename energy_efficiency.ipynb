{
  "nbformat": 4,
  "nbformat_minor": 0,
  "metadata": {
    "colab": {
      "name": "energy efficiency.ipynb",
      "provenance": [],
      "collapsed_sections": [],
      "authorship_tag": "ABX9TyNkB3tW59TxRcGaDyjJQskV",
      "include_colab_link": true
    },
    "kernelspec": {
      "name": "python3",
      "display_name": "Python 3"
    },
    "language_info": {
      "name": "python"
    }
  },
  "cells": [
    {
      "cell_type": "markdown",
      "metadata": {
        "id": "view-in-github",
        "colab_type": "text"
      },
      "source": [
        "<a href=\"https://colab.research.google.com/github/sabeehalam/Hamoye-Internship/blob/main/energy_efficiency.ipynb\" target=\"_parent\"><img src=\"https://colab.research.google.com/assets/colab-badge.svg\" alt=\"Open In Colab\"/></a>"
      ]
    },
    {
      "cell_type": "code",
      "metadata": {
        "colab": {
          "base_uri": "https://localhost:8080/"
        },
        "id": "7JCXJgiasQ8s",
        "outputId": "88afd6dd-850c-4c6e-ef99-1460f0917ca4"
      },
      "source": [
        "#Mount the drive\n",
        "from google.colab import drive\n",
        "drive.mount(\"/content/gdrive\")"
      ],
      "execution_count": 2,
      "outputs": [
        {
          "output_type": "stream",
          "text": [
            "Mounted at /content/gdrive\n"
          ],
          "name": "stdout"
        }
      ]
    },
    {
      "cell_type": "code",
      "metadata": {
        "id": "Y4bkyKn2rVYN"
      },
      "source": [
        "import numpy as np\n",
        "import pandas as pd\n",
        "import matplotlib.pyplot as plt\n",
        "from sklearn.model_selection import train_test_split\n",
        "from sklearn.preprocessing import MinMaxScaler\n",
        "from sklearn.linear_model import LinearRegression,Ridge, Lasso\n",
        "from sklearn.metrics import (mean_squared_error, mean_absolute_error, r2_score) "
      ],
      "execution_count": 85,
      "outputs": []
    },
    {
      "cell_type": "code",
      "metadata": {
        "id": "keoVgCT2sGnW"
      },
      "source": [
        "df=pd.read_csv('energydata_complete.csv',engine='python')"
      ],
      "execution_count": 65,
      "outputs": []
    },
    {
      "cell_type": "code",
      "metadata": {
        "colab": {
          "base_uri": "https://localhost:8080/",
          "height": 383
        },
        "id": "WMEsifglvnj5",
        "outputId": "8f137e93-0c2e-40b4-8235-16de207dec92"
      },
      "source": [
        "df.head()"
      ],
      "execution_count": 66,
      "outputs": [
        {
          "output_type": "execute_result",
          "data": {
            "text/html": [
              "<div>\n",
              "<style scoped>\n",
              "    .dataframe tbody tr th:only-of-type {\n",
              "        vertical-align: middle;\n",
              "    }\n",
              "\n",
              "    .dataframe tbody tr th {\n",
              "        vertical-align: top;\n",
              "    }\n",
              "\n",
              "    .dataframe thead th {\n",
              "        text-align: right;\n",
              "    }\n",
              "</style>\n",
              "<table border=\"1\" class=\"dataframe\">\n",
              "  <thead>\n",
              "    <tr style=\"text-align: right;\">\n",
              "      <th></th>\n",
              "      <th>date</th>\n",
              "      <th>Appliances</th>\n",
              "      <th>lights</th>\n",
              "      <th>T1</th>\n",
              "      <th>RH_1</th>\n",
              "      <th>T2</th>\n",
              "      <th>RH_2</th>\n",
              "      <th>T3</th>\n",
              "      <th>RH_3</th>\n",
              "      <th>T4</th>\n",
              "      <th>RH_4</th>\n",
              "      <th>T5</th>\n",
              "      <th>RH_5</th>\n",
              "      <th>T6</th>\n",
              "      <th>RH_6</th>\n",
              "      <th>T7</th>\n",
              "      <th>RH_7</th>\n",
              "      <th>T8</th>\n",
              "      <th>RH_8</th>\n",
              "      <th>T9</th>\n",
              "      <th>RH_9</th>\n",
              "      <th>T_out</th>\n",
              "      <th>Press_mm_hg</th>\n",
              "      <th>RH_out</th>\n",
              "      <th>Windspeed</th>\n",
              "      <th>Visibility</th>\n",
              "      <th>Tdewpoint</th>\n",
              "      <th>rv1</th>\n",
              "      <th>rv2</th>\n",
              "    </tr>\n",
              "  </thead>\n",
              "  <tbody>\n",
              "    <tr>\n",
              "      <th>0</th>\n",
              "      <td>2016-01-11 17:00:00</td>\n",
              "      <td>60</td>\n",
              "      <td>30</td>\n",
              "      <td>19.89</td>\n",
              "      <td>47.596667</td>\n",
              "      <td>19.2</td>\n",
              "      <td>44.790000</td>\n",
              "      <td>19.79</td>\n",
              "      <td>44.730000</td>\n",
              "      <td>19.000000</td>\n",
              "      <td>45.566667</td>\n",
              "      <td>17.166667</td>\n",
              "      <td>55.20</td>\n",
              "      <td>7.026667</td>\n",
              "      <td>84.256667</td>\n",
              "      <td>17.200000</td>\n",
              "      <td>41.626667</td>\n",
              "      <td>18.2</td>\n",
              "      <td>48.900000</td>\n",
              "      <td>17.033333</td>\n",
              "      <td>45.53</td>\n",
              "      <td>6.600000</td>\n",
              "      <td>733.5</td>\n",
              "      <td>92.0</td>\n",
              "      <td>7.000000</td>\n",
              "      <td>63.000000</td>\n",
              "      <td>5.3</td>\n",
              "      <td>13.275433</td>\n",
              "      <td>13.275433</td>\n",
              "    </tr>\n",
              "    <tr>\n",
              "      <th>1</th>\n",
              "      <td>2016-01-11 17:10:00</td>\n",
              "      <td>60</td>\n",
              "      <td>30</td>\n",
              "      <td>19.89</td>\n",
              "      <td>46.693333</td>\n",
              "      <td>19.2</td>\n",
              "      <td>44.722500</td>\n",
              "      <td>19.79</td>\n",
              "      <td>44.790000</td>\n",
              "      <td>19.000000</td>\n",
              "      <td>45.992500</td>\n",
              "      <td>17.166667</td>\n",
              "      <td>55.20</td>\n",
              "      <td>6.833333</td>\n",
              "      <td>84.063333</td>\n",
              "      <td>17.200000</td>\n",
              "      <td>41.560000</td>\n",
              "      <td>18.2</td>\n",
              "      <td>48.863333</td>\n",
              "      <td>17.066667</td>\n",
              "      <td>45.56</td>\n",
              "      <td>6.483333</td>\n",
              "      <td>733.6</td>\n",
              "      <td>92.0</td>\n",
              "      <td>6.666667</td>\n",
              "      <td>59.166667</td>\n",
              "      <td>5.2</td>\n",
              "      <td>18.606195</td>\n",
              "      <td>18.606195</td>\n",
              "    </tr>\n",
              "    <tr>\n",
              "      <th>2</th>\n",
              "      <td>2016-01-11 17:20:00</td>\n",
              "      <td>50</td>\n",
              "      <td>30</td>\n",
              "      <td>19.89</td>\n",
              "      <td>46.300000</td>\n",
              "      <td>19.2</td>\n",
              "      <td>44.626667</td>\n",
              "      <td>19.79</td>\n",
              "      <td>44.933333</td>\n",
              "      <td>18.926667</td>\n",
              "      <td>45.890000</td>\n",
              "      <td>17.166667</td>\n",
              "      <td>55.09</td>\n",
              "      <td>6.560000</td>\n",
              "      <td>83.156667</td>\n",
              "      <td>17.200000</td>\n",
              "      <td>41.433333</td>\n",
              "      <td>18.2</td>\n",
              "      <td>48.730000</td>\n",
              "      <td>17.000000</td>\n",
              "      <td>45.50</td>\n",
              "      <td>6.366667</td>\n",
              "      <td>733.7</td>\n",
              "      <td>92.0</td>\n",
              "      <td>6.333333</td>\n",
              "      <td>55.333333</td>\n",
              "      <td>5.1</td>\n",
              "      <td>28.642668</td>\n",
              "      <td>28.642668</td>\n",
              "    </tr>\n",
              "    <tr>\n",
              "      <th>3</th>\n",
              "      <td>2016-01-11 17:30:00</td>\n",
              "      <td>50</td>\n",
              "      <td>40</td>\n",
              "      <td>19.89</td>\n",
              "      <td>46.066667</td>\n",
              "      <td>19.2</td>\n",
              "      <td>44.590000</td>\n",
              "      <td>19.79</td>\n",
              "      <td>45.000000</td>\n",
              "      <td>18.890000</td>\n",
              "      <td>45.723333</td>\n",
              "      <td>17.166667</td>\n",
              "      <td>55.09</td>\n",
              "      <td>6.433333</td>\n",
              "      <td>83.423333</td>\n",
              "      <td>17.133333</td>\n",
              "      <td>41.290000</td>\n",
              "      <td>18.1</td>\n",
              "      <td>48.590000</td>\n",
              "      <td>17.000000</td>\n",
              "      <td>45.40</td>\n",
              "      <td>6.250000</td>\n",
              "      <td>733.8</td>\n",
              "      <td>92.0</td>\n",
              "      <td>6.000000</td>\n",
              "      <td>51.500000</td>\n",
              "      <td>5.0</td>\n",
              "      <td>45.410389</td>\n",
              "      <td>45.410389</td>\n",
              "    </tr>\n",
              "    <tr>\n",
              "      <th>4</th>\n",
              "      <td>2016-01-11 17:40:00</td>\n",
              "      <td>60</td>\n",
              "      <td>40</td>\n",
              "      <td>19.89</td>\n",
              "      <td>46.333333</td>\n",
              "      <td>19.2</td>\n",
              "      <td>44.530000</td>\n",
              "      <td>19.79</td>\n",
              "      <td>45.000000</td>\n",
              "      <td>18.890000</td>\n",
              "      <td>45.530000</td>\n",
              "      <td>17.200000</td>\n",
              "      <td>55.09</td>\n",
              "      <td>6.366667</td>\n",
              "      <td>84.893333</td>\n",
              "      <td>17.200000</td>\n",
              "      <td>41.230000</td>\n",
              "      <td>18.1</td>\n",
              "      <td>48.590000</td>\n",
              "      <td>17.000000</td>\n",
              "      <td>45.40</td>\n",
              "      <td>6.133333</td>\n",
              "      <td>733.9</td>\n",
              "      <td>92.0</td>\n",
              "      <td>5.666667</td>\n",
              "      <td>47.666667</td>\n",
              "      <td>4.9</td>\n",
              "      <td>10.084097</td>\n",
              "      <td>10.084097</td>\n",
              "    </tr>\n",
              "  </tbody>\n",
              "</table>\n",
              "</div>"
            ],
            "text/plain": [
              "                  date  Appliances  lights  ...  Tdewpoint        rv1        rv2\n",
              "0  2016-01-11 17:00:00          60      30  ...        5.3  13.275433  13.275433\n",
              "1  2016-01-11 17:10:00          60      30  ...        5.2  18.606195  18.606195\n",
              "2  2016-01-11 17:20:00          50      30  ...        5.1  28.642668  28.642668\n",
              "3  2016-01-11 17:30:00          50      40  ...        5.0  45.410389  45.410389\n",
              "4  2016-01-11 17:40:00          60      40  ...        4.9  10.084097  10.084097\n",
              "\n",
              "[5 rows x 29 columns]"
            ]
          },
          "metadata": {
            "tags": []
          },
          "execution_count": 66
        }
      ]
    },
    {
      "cell_type": "code",
      "metadata": {
        "colab": {
          "base_uri": "https://localhost:8080/",
          "height": 215
        },
        "id": "7lLycyA8wS9K",
        "outputId": "619a3cf2-4b2d-4b3d-9294-e728acd97c24"
      },
      "source": [
        "df_1=df.drop(['date', 'lights'],axis=1)\n",
        "df_1.head()"
      ],
      "execution_count": 67,
      "outputs": [
        {
          "output_type": "execute_result",
          "data": {
            "text/html": [
              "<div>\n",
              "<style scoped>\n",
              "    .dataframe tbody tr th:only-of-type {\n",
              "        vertical-align: middle;\n",
              "    }\n",
              "\n",
              "    .dataframe tbody tr th {\n",
              "        vertical-align: top;\n",
              "    }\n",
              "\n",
              "    .dataframe thead th {\n",
              "        text-align: right;\n",
              "    }\n",
              "</style>\n",
              "<table border=\"1\" class=\"dataframe\">\n",
              "  <thead>\n",
              "    <tr style=\"text-align: right;\">\n",
              "      <th></th>\n",
              "      <th>Appliances</th>\n",
              "      <th>T1</th>\n",
              "      <th>RH_1</th>\n",
              "      <th>T2</th>\n",
              "      <th>RH_2</th>\n",
              "      <th>T3</th>\n",
              "      <th>RH_3</th>\n",
              "      <th>T4</th>\n",
              "      <th>RH_4</th>\n",
              "      <th>T5</th>\n",
              "      <th>RH_5</th>\n",
              "      <th>T6</th>\n",
              "      <th>RH_6</th>\n",
              "      <th>T7</th>\n",
              "      <th>RH_7</th>\n",
              "      <th>T8</th>\n",
              "      <th>RH_8</th>\n",
              "      <th>T9</th>\n",
              "      <th>RH_9</th>\n",
              "      <th>T_out</th>\n",
              "      <th>Press_mm_hg</th>\n",
              "      <th>RH_out</th>\n",
              "      <th>Windspeed</th>\n",
              "      <th>Visibility</th>\n",
              "      <th>Tdewpoint</th>\n",
              "      <th>rv1</th>\n",
              "      <th>rv2</th>\n",
              "    </tr>\n",
              "  </thead>\n",
              "  <tbody>\n",
              "    <tr>\n",
              "      <th>0</th>\n",
              "      <td>60</td>\n",
              "      <td>19.89</td>\n",
              "      <td>47.596667</td>\n",
              "      <td>19.2</td>\n",
              "      <td>44.790000</td>\n",
              "      <td>19.79</td>\n",
              "      <td>44.730000</td>\n",
              "      <td>19.000000</td>\n",
              "      <td>45.566667</td>\n",
              "      <td>17.166667</td>\n",
              "      <td>55.20</td>\n",
              "      <td>7.026667</td>\n",
              "      <td>84.256667</td>\n",
              "      <td>17.200000</td>\n",
              "      <td>41.626667</td>\n",
              "      <td>18.2</td>\n",
              "      <td>48.900000</td>\n",
              "      <td>17.033333</td>\n",
              "      <td>45.53</td>\n",
              "      <td>6.600000</td>\n",
              "      <td>733.5</td>\n",
              "      <td>92.0</td>\n",
              "      <td>7.000000</td>\n",
              "      <td>63.000000</td>\n",
              "      <td>5.3</td>\n",
              "      <td>13.275433</td>\n",
              "      <td>13.275433</td>\n",
              "    </tr>\n",
              "    <tr>\n",
              "      <th>1</th>\n",
              "      <td>60</td>\n",
              "      <td>19.89</td>\n",
              "      <td>46.693333</td>\n",
              "      <td>19.2</td>\n",
              "      <td>44.722500</td>\n",
              "      <td>19.79</td>\n",
              "      <td>44.790000</td>\n",
              "      <td>19.000000</td>\n",
              "      <td>45.992500</td>\n",
              "      <td>17.166667</td>\n",
              "      <td>55.20</td>\n",
              "      <td>6.833333</td>\n",
              "      <td>84.063333</td>\n",
              "      <td>17.200000</td>\n",
              "      <td>41.560000</td>\n",
              "      <td>18.2</td>\n",
              "      <td>48.863333</td>\n",
              "      <td>17.066667</td>\n",
              "      <td>45.56</td>\n",
              "      <td>6.483333</td>\n",
              "      <td>733.6</td>\n",
              "      <td>92.0</td>\n",
              "      <td>6.666667</td>\n",
              "      <td>59.166667</td>\n",
              "      <td>5.2</td>\n",
              "      <td>18.606195</td>\n",
              "      <td>18.606195</td>\n",
              "    </tr>\n",
              "    <tr>\n",
              "      <th>2</th>\n",
              "      <td>50</td>\n",
              "      <td>19.89</td>\n",
              "      <td>46.300000</td>\n",
              "      <td>19.2</td>\n",
              "      <td>44.626667</td>\n",
              "      <td>19.79</td>\n",
              "      <td>44.933333</td>\n",
              "      <td>18.926667</td>\n",
              "      <td>45.890000</td>\n",
              "      <td>17.166667</td>\n",
              "      <td>55.09</td>\n",
              "      <td>6.560000</td>\n",
              "      <td>83.156667</td>\n",
              "      <td>17.200000</td>\n",
              "      <td>41.433333</td>\n",
              "      <td>18.2</td>\n",
              "      <td>48.730000</td>\n",
              "      <td>17.000000</td>\n",
              "      <td>45.50</td>\n",
              "      <td>6.366667</td>\n",
              "      <td>733.7</td>\n",
              "      <td>92.0</td>\n",
              "      <td>6.333333</td>\n",
              "      <td>55.333333</td>\n",
              "      <td>5.1</td>\n",
              "      <td>28.642668</td>\n",
              "      <td>28.642668</td>\n",
              "    </tr>\n",
              "    <tr>\n",
              "      <th>3</th>\n",
              "      <td>50</td>\n",
              "      <td>19.89</td>\n",
              "      <td>46.066667</td>\n",
              "      <td>19.2</td>\n",
              "      <td>44.590000</td>\n",
              "      <td>19.79</td>\n",
              "      <td>45.000000</td>\n",
              "      <td>18.890000</td>\n",
              "      <td>45.723333</td>\n",
              "      <td>17.166667</td>\n",
              "      <td>55.09</td>\n",
              "      <td>6.433333</td>\n",
              "      <td>83.423333</td>\n",
              "      <td>17.133333</td>\n",
              "      <td>41.290000</td>\n",
              "      <td>18.1</td>\n",
              "      <td>48.590000</td>\n",
              "      <td>17.000000</td>\n",
              "      <td>45.40</td>\n",
              "      <td>6.250000</td>\n",
              "      <td>733.8</td>\n",
              "      <td>92.0</td>\n",
              "      <td>6.000000</td>\n",
              "      <td>51.500000</td>\n",
              "      <td>5.0</td>\n",
              "      <td>45.410389</td>\n",
              "      <td>45.410389</td>\n",
              "    </tr>\n",
              "    <tr>\n",
              "      <th>4</th>\n",
              "      <td>60</td>\n",
              "      <td>19.89</td>\n",
              "      <td>46.333333</td>\n",
              "      <td>19.2</td>\n",
              "      <td>44.530000</td>\n",
              "      <td>19.79</td>\n",
              "      <td>45.000000</td>\n",
              "      <td>18.890000</td>\n",
              "      <td>45.530000</td>\n",
              "      <td>17.200000</td>\n",
              "      <td>55.09</td>\n",
              "      <td>6.366667</td>\n",
              "      <td>84.893333</td>\n",
              "      <td>17.200000</td>\n",
              "      <td>41.230000</td>\n",
              "      <td>18.1</td>\n",
              "      <td>48.590000</td>\n",
              "      <td>17.000000</td>\n",
              "      <td>45.40</td>\n",
              "      <td>6.133333</td>\n",
              "      <td>733.9</td>\n",
              "      <td>92.0</td>\n",
              "      <td>5.666667</td>\n",
              "      <td>47.666667</td>\n",
              "      <td>4.9</td>\n",
              "      <td>10.084097</td>\n",
              "      <td>10.084097</td>\n",
              "    </tr>\n",
              "  </tbody>\n",
              "</table>\n",
              "</div>"
            ],
            "text/plain": [
              "   Appliances     T1       RH_1  ...  Tdewpoint        rv1        rv2\n",
              "0          60  19.89  47.596667  ...        5.3  13.275433  13.275433\n",
              "1          60  19.89  46.693333  ...        5.2  18.606195  18.606195\n",
              "2          50  19.89  46.300000  ...        5.1  28.642668  28.642668\n",
              "3          50  19.89  46.066667  ...        5.0  45.410389  45.410389\n",
              "4          60  19.89  46.333333  ...        4.9  10.084097  10.084097\n",
              "\n",
              "[5 rows x 27 columns]"
            ]
          },
          "metadata": {
            "tags": []
          },
          "execution_count": 67
        }
      ]
    },
    {
      "cell_type": "code",
      "metadata": {
        "id": "-GO4feWCziGD"
      },
      "source": [
        "X=df_1.drop('Appliances', axis=1)\n",
        "y=df_1['Appliances']"
      ],
      "execution_count": 68,
      "outputs": []
    },
    {
      "cell_type": "code",
      "metadata": {
        "id": "7MNoZW_byzdR"
      },
      "source": [
        "X_train, X_test, y_train, y_test=train_test_split(X,y, test_size=0.3, random_state=42)"
      ],
      "execution_count": 69,
      "outputs": []
    },
    {
      "cell_type": "code",
      "metadata": {
        "colab": {
          "base_uri": "https://localhost:8080/"
        },
        "id": "BCVCzw1SyzaP",
        "outputId": "7aa1bfdb-a5f9-45b2-fbb2-7903845cc9b7"
      },
      "source": [
        "minmax=MinMaxScaler()\n",
        "minmax.fit_transform(X_train, y_train)\n",
        "minmax.transform(X_test)"
      ],
      "execution_count": 70,
      "outputs": [
        {
          "output_type": "execute_result",
          "data": {
            "text/plain": [
              "array([[0.43294615, 0.27554825, 0.12066877, ..., 0.3       , 0.51234794,\n",
              "        0.51234794],\n",
              "       [0.53854277, 0.85778509, 0.37727163, ..., 0.35454545, 0.46937859,\n",
              "        0.46937859],\n",
              "       [0.48574446, 0.27883772, 0.11146111, ..., 0.19090909, 0.00259746,\n",
              "        0.00259746],\n",
              "       ...,\n",
              "       [0.43681802, 0.40712719, 0.18899927, ..., 0.51742424, 0.79266914,\n",
              "        0.79266914],\n",
              "       [0.55015839, 0.46732456, 0.33438333, ..., 0.52272727, 0.60824256,\n",
              "        0.60824256],\n",
              "       [0.43294615, 0.50219298, 0.21322995, ..., 0.74393939, 0.19877963,\n",
              "        0.19877963]])"
            ]
          },
          "metadata": {
            "tags": []
          },
          "execution_count": 70
        }
      ]
    },
    {
      "cell_type": "code",
      "metadata": {
        "id": "pMFPiOQjysup"
      },
      "source": [
        "mlr=LinearRegression()\n",
        "hist=mlr.fit(X_train, y_train)\n",
        "y_pred=mlr.predict(X_test)"
      ],
      "execution_count": 78,
      "outputs": []
    },
    {
      "cell_type": "code",
      "metadata": {
        "colab": {
          "base_uri": "https://localhost:8080/"
        },
        "id": "KwaeoWob3Pa9",
        "outputId": "8c6abc47-0608-4b64-fd74-5a170c5db04e"
      },
      "source": [
        "mean_squared_error(y_test, y_pred)"
      ],
      "execution_count": 72,
      "outputs": [
        {
          "output_type": "execute_result",
          "data": {
            "text/plain": [
              "8768.535925051972"
            ]
          },
          "metadata": {
            "tags": []
          },
          "execution_count": 72
        }
      ]
    },
    {
      "cell_type": "code",
      "metadata": {
        "id": "_huQSEIGGjuf"
      },
      "source": [
        "mse=mean_squared_error(y_pred, y_test)\n",
        "mae=mean_absolute_error(y_pred, y_test)\n",
        "r2=r2_score(y_pred, y_test)"
      ],
      "execution_count": 74,
      "outputs": []
    },
    {
      "cell_type": "code",
      "metadata": {
        "colab": {
          "base_uri": "https://localhost:8080/"
        },
        "id": "zkc8_mz1H1pV",
        "outputId": "3e001841-09a1-4788-976b-309ac8f6b453"
      },
      "source": [
        "rmse=pow(mse,0.5)\n",
        "rmse"
      ],
      "execution_count": 77,
      "outputs": [
        {
          "output_type": "execute_result",
          "data": {
            "text/plain": [
              "93.64046093998027"
            ]
          },
          "metadata": {
            "tags": []
          },
          "execution_count": 77
        }
      ]
    },
    {
      "cell_type": "code",
      "metadata": {
        "colab": {
          "base_uri": "https://localhost:8080/"
        },
        "id": "E9o39NCQGjnF",
        "outputId": "463850a7-4f3d-46c5-cb4c-18746327c9f9"
      },
      "source": [
        "print(mse, mae, r2)"
      ],
      "execution_count": 75,
      "outputs": [
        {
          "output_type": "stream",
          "text": [
            "8768.535925051972 53.64297765584962 -4.411893747294925\n"
          ],
          "name": "stdout"
        }
      ]
    },
    {
      "cell_type": "code",
      "metadata": {
        "colab": {
          "base_uri": "https://localhost:8080/"
        },
        "id": "ps9vxOfSIAkh",
        "outputId": "211f8055-4823-4fc5-fb1b-f32473aeb95e"
      },
      "source": [
        "hist.coef_"
      ],
      "execution_count": 79,
      "outputs": [
        {
          "output_type": "execute_result",
          "data": {
            "text/plain": [
              "array([-3.70720673e-01,  1.63001980e+01, -1.83700295e+01, -1.37407481e+01,\n",
              "        2.58367429e+01,  4.80316182e+00,  2.79366382e+00,  1.20498426e+00,\n",
              "       -1.60084298e+00,  2.57510931e-01,  7.36354686e+00,  4.11648713e-01,\n",
              "        1.04063061e+00, -1.69278695e+00,  9.99097025e+00, -5.77886090e+00,\n",
              "       -2.11484524e+01, -1.76267959e+00, -1.10736285e+01,  1.70187889e-01,\n",
              "       -1.09352104e+00,  2.23042487e+00,  2.02585717e-01,  5.70139259e+00,\n",
              "        1.64829984e-02,  1.64829984e-02])"
            ]
          },
          "metadata": {
            "tags": []
          },
          "execution_count": 79
        }
      ]
    },
    {
      "cell_type": "code",
      "metadata": {
        "id": "RZ8AyHJdIAh2"
      },
      "source": [
        ""
      ],
      "execution_count": null,
      "outputs": []
    },
    {
      "cell_type": "markdown",
      "metadata": {
        "id": "fS9dTmVz7p4M"
      },
      "source": [
        "Quiz questions\n"
      ]
    },
    {
      "cell_type": "code",
      "metadata": {
        "colab": {
          "base_uri": "https://localhost:8080/"
        },
        "id": "iKYL2m8e8VBd",
        "outputId": "6d5cb53e-0740-49a8-8c59-018ba3d0b3be"
      },
      "source": [
        "X=df_1['T2'].to_numpy()\n",
        "y=df_1['T6']\n",
        "x=np.reshape(X,(-1,1))\n",
        "x.shape\n",
        "X_train,X_test, y_train, y_test = train_test_split(X,y,test_size=0.3, random_state=42)"
      ],
      "execution_count": 55,
      "outputs": [
        {
          "output_type": "execute_result",
          "data": {
            "text/plain": [
              "(19735, 1)"
            ]
          },
          "metadata": {
            "tags": []
          },
          "execution_count": 55
        }
      ]
    },
    {
      "cell_type": "code",
      "metadata": {
        "id": "7mg_rfb03eq7"
      },
      "source": [
        "m1=LinearRegression()\n",
        "hist=m1.fit(x,y)\n",
        "y_pred=m1.predict(x)\n",
        "mse=mean_squared_error(y_pred, y)\n",
        "mae=mean_absolute_error(y_pred, y)\n",
        "r2=r2_score(y_pred, y)"
      ],
      "execution_count": 60,
      "outputs": []
    },
    {
      "cell_type": "code",
      "metadata": {
        "colab": {
          "base_uri": "https://localhost:8080/"
        },
        "id": "zv5NihzpHvr5",
        "outputId": "d31e45b5-a57b-411d-ea48-85641d5fe8f1"
      },
      "source": [
        "((y_test - y_pred) ** 2).sum() "
      ],
      "execution_count": 76,
      "outputs": [
        {
          "output_type": "execute_result",
          "data": {
            "text/plain": [
              "51918501.212232724"
            ]
          },
          "metadata": {
            "tags": []
          },
          "execution_count": 76
        }
      ]
    },
    {
      "cell_type": "code",
      "metadata": {
        "colab": {
          "base_uri": "https://localhost:8080/"
        },
        "id": "D3pkhR9j8EMp",
        "outputId": "63a0350b-ddb0-4c55-f388-2d5c5968a4e9"
      },
      "source": [
        "print(mse, mae, r2)"
      ],
      "execution_count": 61,
      "outputs": [
        {
          "output_type": "stream",
          "text": [
            "13.282121399544055 2.838473720687599 0.4421227162483343\n"
          ],
          "name": "stdout"
        }
      ]
    },
    {
      "cell_type": "code",
      "metadata": {
        "colab": {
          "base_uri": "https://localhost:8080/"
        },
        "id": "0CS-c9FVCXlz",
        "outputId": "ac1e6eb4-3edd-4d55-90ba-de5620e5b514"
      },
      "source": [
        "((y - y_pred) ** 2).sum() "
      ],
      "execution_count": 62,
      "outputs": [
        {
          "output_type": "execute_result",
          "data": {
            "text/plain": [
              "262122.66582000192"
            ]
          },
          "metadata": {
            "tags": []
          },
          "execution_count": 62
        }
      ]
    },
    {
      "cell_type": "code",
      "metadata": {
        "colab": {
          "base_uri": "https://localhost:8080/"
        },
        "id": "E-bkhwV5Figh",
        "outputId": "dbb5be03-0e8d-4e6c-8ab8-e65efd667f72"
      },
      "source": [
        "pow(mse,0.5)"
      ],
      "execution_count": 64,
      "outputs": [
        {
          "output_type": "execute_result",
          "data": {
            "text/plain": [
              "3.6444644873484573"
            ]
          },
          "metadata": {
            "tags": []
          },
          "execution_count": 64
        }
      ]
    },
    {
      "cell_type": "code",
      "metadata": {
        "colab": {
          "base_uri": "https://localhost:8080/"
        },
        "id": "OUtJMAdkF0vR",
        "outputId": "a9331582-00fc-4df7-bd6b-b3110f841616"
      },
      "source": [
        "rg=Ridge(alpha=0.4)\n",
        "hist=rg.fit(X_train, y_train)\n",
        "y_pred=rg.predict(X_test)\n",
        "mse=mean_squared_error(y_pred, y_test)\n",
        "pow(mse, 0.5)"
      ],
      "execution_count": 84,
      "outputs": [
        {
          "output_type": "execute_result",
          "data": {
            "text/plain": [
              "93.64050398701556"
            ]
          },
          "metadata": {
            "tags": []
          },
          "execution_count": 84
        }
      ]
    },
    {
      "cell_type": "code",
      "metadata": {
        "colab": {
          "base_uri": "https://localhost:8080/"
        },
        "id": "ddCyFcMFKU9F",
        "outputId": "dcf0ebfe-4345-4e91-d02e-02cbfa63df31"
      },
      "source": [
        "rg=Lasso(alpha=0.001)\n",
        "hist=rg.fit(X_train, y_train)\n",
        "y_pred=rg.predict(X_test)\n",
        "mse=mean_squared_error(y_pred, y_test)\n",
        "pow(mse, 0.5)"
      ],
      "execution_count": 87,
      "outputs": [
        {
          "output_type": "stream",
          "text": [
            "/usr/local/lib/python3.7/dist-packages/sklearn/linear_model/_coordinate_descent.py:476: ConvergenceWarning: Objective did not converge. You might want to increase the number of iterations. Duality gap: 6136226.8821879625, tolerance: 14642.917148544939\n",
            "  positive)\n"
          ],
          "name": "stderr"
        },
        {
          "output_type": "execute_result",
          "data": {
            "text/plain": [
              "93.64047772243323"
            ]
          },
          "metadata": {
            "tags": []
          },
          "execution_count": 87
        }
      ]
    },
    {
      "cell_type": "code",
      "metadata": {
        "colab": {
          "base_uri": "https://localhost:8080/"
        },
        "id": "eTkMBu2qKpJn",
        "outputId": "162b7955-3c7f-4d83-93e7-218c0cd0d012"
      },
      "source": [
        "hist.coef_"
      ],
      "execution_count": 88,
      "outputs": [
        {
          "output_type": "execute_result",
          "data": {
            "text/plain": [
              "array([ -0.36651459,  16.29967497, -18.36317783, -13.73723101,\n",
              "        25.83110181,   4.80204536,   2.788718  ,   1.20290031,\n",
              "        -1.60161226,   0.25753728,   7.36032681,   0.41145013,\n",
              "         1.03438863,  -1.69193633,   9.98826123,  -5.77897699,\n",
              "       -21.13836072,  -1.7623376 , -11.05956632,   0.17020564,\n",
              "        -1.0911855 ,   2.23056597,   0.202535  ,   5.6889568 ,\n",
              "         0.03295809,   0.        ])"
            ]
          },
          "metadata": {
            "tags": []
          },
          "execution_count": 88
        }
      ]
    },
    {
      "cell_type": "code",
      "metadata": {
        "id": "3Br9jhEEKw9L"
      },
      "source": [
        ""
      ],
      "execution_count": null,
      "outputs": []
    }
  ]
}